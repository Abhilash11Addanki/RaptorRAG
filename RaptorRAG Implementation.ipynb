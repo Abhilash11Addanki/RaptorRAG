{
 "cells": [
  {
   "cell_type": "code",
   "execution_count": 7,
   "id": "895c155f",
   "metadata": {},
   "outputs": [
    {
     "ename": "ModuleNotFoundError",
     "evalue": "No module named 'raptor'",
     "output_type": "error",
     "traceback": [
      "\u001b[1;31m---------------------------------------------------------------------------\u001b[0m",
      "\u001b[1;31mModuleNotFoundError\u001b[0m                       Traceback (most recent call last)",
      "Cell \u001b[1;32mIn[7], line 4\u001b[0m\n\u001b[0;32m      1\u001b[0m \u001b[38;5;28;01mimport\u001b[39;00m \u001b[38;5;21;01mos\u001b[39;00m\n\u001b[0;32m      2\u001b[0m os\u001b[38;5;241m.\u001b[39menviron[\u001b[38;5;124m\"\u001b[39m\u001b[38;5;124mOPENAI_API_KEY\u001b[39m\u001b[38;5;124m\"\u001b[39m] \u001b[38;5;241m=\u001b[39m \u001b[38;5;124m\"\u001b[39m\u001b[38;5;124msk-cCYa8bYkyX5dZUB2cGiQYHLLHNUTBLllmSpVPLki1WT3BlbkFJ4Vl0WNhffIXlWt9Eowe0sAJcKap1O-X1cJqZKoUBUA\u001b[39m\u001b[38;5;124m\"\u001b[39m\n\u001b[1;32m----> 4\u001b[0m \u001b[38;5;28;01mfrom\u001b[39;00m \u001b[38;5;21;01mraptor\u001b[39;00m \u001b[38;5;28;01mimport\u001b[39;00m RetrievalAugmentation\n\u001b[0;32m      6\u001b[0m \u001b[38;5;66;03m# Initialize with default configuration. For advanced configurations, check the documentation. [WIP]\u001b[39;00m\n\u001b[0;32m      7\u001b[0m RA \u001b[38;5;241m=\u001b[39m RetrievalAugmentation()\n",
      "\u001b[1;31mModuleNotFoundError\u001b[0m: No module named 'raptor'"
     ]
    }
   ],
   "source": [
    "import os\n",
    "os.environ[\"OPENAI_API_KEY\"] = \"sk-cCYa8bYkyX5dZUB2cGiQYHLLHNUTBLllmSpVPLki1WT3BlbkFJ4Vl0WNhffIXlWt9Eowe0sAJcKap1O-X1cJqZKoUBUA\"\n",
    "\n",
    "from raptor import RetrievalAugmentation\n",
    "\n",
    "# Initialize with default configuration. For advanced configurations, check the documentation. [WIP]\n",
    "RA = RetrievalAugmentation()"
   ]
  },
  {
   "cell_type": "code",
   "execution_count": null,
   "id": "8539a913",
   "metadata": {},
   "outputs": [],
   "source": []
  }
 ],
 "metadata": {
  "kernelspec": {
   "display_name": "Python 3 (ipykernel)",
   "language": "python",
   "name": "python3"
  },
  "language_info": {
   "codemirror_mode": {
    "name": "ipython",
    "version": 3
   },
   "file_extension": ".py",
   "mimetype": "text/x-python",
   "name": "python",
   "nbconvert_exporter": "python",
   "pygments_lexer": "ipython3",
   "version": "3.11.5"
  }
 },
 "nbformat": 4,
 "nbformat_minor": 5
}
